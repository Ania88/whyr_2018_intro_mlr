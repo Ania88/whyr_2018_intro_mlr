{
 "cells": [
  {
   "cell_type": "markdown",
   "metadata": {},
   "source": [
    "# Why R Conference? Introduction to mlr"
   ]
  },
  {
   "cell_type": "markdown",
   "metadata": {},
   "source": [
    "## Spam E-mail Database  \n",
    "--------------------\n",
    "\n",
    "\n",
    "### Description\n",
    "\n",
    "A data set collected at Hewlett-Packard Labs, that classifies 4601 e-mails as spam or non-spam. In addition to this class label there are 57 variables indicating the frequency of certain words and characters in the e-mail.\n",
    "\n",
    "### Format\n",
    "\n",
    "A data frame with 4601 observations and 58 variables.\n",
    "\n",
    "The first 48 variables contain the frequency of the variable name (e.g., business) in the e-mail. If the variable name starts with num (e.g., num650) the it indicates the frequency of the corresponding number (e.g., 650). The variables 49-54 indicate the frequency of the characters ‘;’, ‘(’, ‘\\[’, ‘!’, ‘\\\\$’, and ‘\\\\#’. The variables 55-57 contain the average, longest and total run-length of capital letters. Variable 58 indicates the type of the mail and is either `\"nonspam\"` or `\"spam\"`, i.e. unsolicited commercial e-mail.\n",
    "\n",
    "### Details\n",
    "\n",
    "The data set contains 2788 e-mails classified as `\"nonspam\"` and 1813 classified as `\"spam\"`.\n",
    "\n",
    "The “spam” concept is diverse: advertisements for products/web sites, make money fast schemes, chain letters, pornography... This collection of spam e-mails came from the collectors' postmaster and individuals who had filed spam. The collection of non-spam e-mails came from filed work and personal e-mails, and hence the word 'george' and the area code '650' are indicators of non-spam. These are useful when constructing a personalized spam filter. One would either have to blind such non-spam indicators or get a very wide collection of non-spam to generate a general purpose spam filter.\n",
    "\n",
    "### Source\n",
    "\n",
    "*   Creators: Mark Hopkins, Erik Reeber, George Forman, Jaap Suermondt at Hewlett-Packard Labs, 1501 Page Mill Rd., Palo Alto, CA 94304\n",
    "    \n",
    "*   Donor: George Forman (gforman at nospam hpl.hp.com) 650-857-7835\n",
    "    \n",
    "\n",
    "These data have been taken from the UCI Repository Of Machine Learning Databases at [http://www.ics.uci.edu/~mlearn/MLRepository.html](http://www.ics.uci.edu/~mlearn/MLRepository.html)\n",
    "\n",
    "### References\n",
    "\n",
    "T. Hastie, R. Tibshirani, J.H. Friedman. _The Elements of Statistical Learning._ Springer, 2001.\n"
   ]
  },
  {
   "cell_type": "markdown",
   "metadata": {},
   "source": [
    "## Exercise\n",
    "---------------\n",
    "\n",
    "a) Create a binary classifcation task from the spam data"
   ]
  },
  {
   "cell_type": "code",
   "execution_count": null,
   "metadata": {
    "scrolled": true
   },
   "outputs": [],
   "source": [
    "library(mlr)\n",
    "data(spam, package = \"kernlab\")\n",
    "\n",
    "spam.task = ..."
   ]
  },
  {
   "cell_type": "markdown",
   "metadata": {},
   "source": [
    "b) List all learners that could be trained on `spam.task`"
   ]
  },
  {
   "cell_type": "code",
   "execution_count": null,
   "metadata": {},
   "outputs": [],
   "source": []
  },
  {
   "cell_type": "markdown",
   "metadata": {},
   "source": [
    "c) Select a learner you like and create it. If you want to can change its hyperparameters "
   ]
  },
  {
   "cell_type": "code",
   "execution_count": null,
   "metadata": {},
   "outputs": [],
   "source": []
  },
  {
   "cell_type": "markdown",
   "metadata": {},
   "source": [
    "d) Create an index set of train and test indicies. The test set should have 1000 observations.\n",
    "\n",
    "d*) Ensure that the fraction between `\"spam\"` and `\"nonspam\"` is the training and test set is the same as in the full dataset. "
   ]
  },
  {
   "cell_type": "code",
   "execution_count": null,
   "metadata": {},
   "outputs": [],
   "source": [
    "train.inds = ...\n",
    "test.inds = ..."
   ]
  },
  {
   "cell_type": "markdown",
   "metadata": {},
   "source": [
    "e) Train your model on the train subset of the spam data and predict on the test subset."
   ]
  },
  {
   "cell_type": "code",
   "execution_count": null,
   "metadata": {},
   "outputs": [],
   "source": [
    "mod = ...\n",
    "preds = ..."
   ]
  },
  {
   "cell_type": "markdown",
   "metadata": {},
   "source": [
    "f) Evaluate the performance of your model based on accuracy and area under the curve."
   ]
  },
  {
   "cell_type": "code",
   "execution_count": null,
   "metadata": {},
   "outputs": [],
   "source": [
    "perf = ..."
   ]
  },
  {
   "cell_type": "markdown",
   "metadata": {},
   "source": [
    "g) Try to find a model with an AUC of at least 98%. \n",
    "- Try different models\n",
    "- Change hyperparameters \n",
    "- Have a closer look at the feature and try to find transformations or combination of features that improve your model's performance   "
   ]
  },
  {
   "cell_type": "code",
   "execution_count": null,
   "metadata": {},
   "outputs": [],
   "source": []
  }
 ],
 "metadata": {
  "kernelspec": {
   "display_name": "R",
   "language": "R",
   "name": "ir"
  },
  "language_info": {
   "codemirror_mode": "r",
   "file_extension": ".r",
   "mimetype": "text/x-r-source",
   "name": "R",
   "pygments_lexer": "r",
   "version": "3.4.4"
  }
 },
 "nbformat": 4,
 "nbformat_minor": 2
}
